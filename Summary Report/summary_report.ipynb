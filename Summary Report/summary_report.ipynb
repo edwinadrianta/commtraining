{
  "cells": [
    {
      "cell_type": "raw",
      "metadata": {},
      "source": [
        "---\n",
        "title: \"Summary Report: Yarning Circle Phase 1\"\n",
        "author: \"Jawun Research Centre\"\n",
        "date: \"`r Sys.Date()`\"\n",
        "output:\n",
        "  html_document:\n",
        "    toc: true\n",
        "    toc_float: true\n",
        "---"
      ],
      "id": "0c3f8a21"
    },
    {
      "cell_type": "markdown",
      "metadata": {},
      "source": [
        "```{css, echo = FALSE}\n",
        ".justify {\n",
        "  text-align: justify !important\n",
        "}\n",
        "```\n",
        "\n",
        "knitr::opts_chunk$set(echo = TRUE)\n",
        "\n",
        "# A. Executive Summary\n",
        "\n",
        "\\[add text here\\]\n",
        "\n",
        "# B. Introduction and Background\n",
        "\n",
        "::: justify\n",
        "In Australia, almost 1 in 3 Aboriginal and Torres Strait Islander adults (31% or 149,400) had high to very high levels of psychological distress in 2018–19, more than twice the levels of non-Indigenous adults (13%) (REF). In Queensland, mental health is a leading contributor to burden of disease, accounting for approximately 20% of the total disease burden experienced by Aboriginal and Torres Strait Islander peoples (REF). The National Aboriginal and Torres Strait Islander Leadership in Mental Health (NATSILMH) highlighted a need for culturally appropriate and accountable mental health services (REF).A crucial next step in service development is to ensure that mental health services are culturally sensitive and safe, providing access to staff who practice respectful, reciprocal and person/family/community centric communication.This project will build a cross-disciplinary research team led by Aboriginal and Torres Strait Islander researchers and mental health clinicians. We will engage with Aboriginal and Torres Strait Islander consumers and communities, services providers, and policy makers to co-design and evaluate a patient-centred and culturally sensitive communication training package for non-Indigenous mental health professionals with a goal of improving health outcomes for Aboriginal and Torres Strait Islander patients accessing mental health services.\n",
        "\n",
        "This project aims to co-design, deliver and evaluate a patient-centred and culturally sensitive communication training package for non-Indigenous mental health professionals, with the goals of: 1) improving health outcomes for Aboriginal and Torres Strait Islander patients accessing Queensland health mental health services and 2) building a culturally competent, responsive and clinically safe mental health workforce. Specifically, this report outlines the results of the yarning circles, during which mental health professionals share their thoughts, ideas, and experiences regarding their interactions with Aboriginal and Torres Strait Islander patients or clients.\n",
        ":::\n",
        "\n",
        "# C. Research Activity\n",
        "\n",
        "\\[Describe the methods and approaches used in the research, including data collection and analysis techniques.\\]\n",
        "\n",
        "# D. Results\n",
        "\n",
        "\\[Present the results of the research, including any statistical analyses or visualizations.\\]\n",
        "\n",
        "# E. Discussion and Implication\n",
        "\n",
        "\\[Discuss the implications of the results, their significance, and any recommendations for future research or actions.\\]\n",
        "\n",
        "# F. Conclusion\n",
        "\n",
        "\\[Summarize the main findings of the project and their implications.\\]\n",
        "\n",
        "# References\n",
        "\n",
        "\\[Include a list of references cited in the report.\\]\n",
        "\n",
        "# Appendix\n",
        "\n",
        "## \\[Include any additional information, data, or code relevant to the project.\\]\n",
        "\n",
        "## "
      ],
      "id": "4ff4b3d4"
    }
  ],
  "metadata": {
    "kernelspec": {
      "display_name": "Python 3",
      "language": "python",
      "name": "python3"
    }
  },
  "nbformat": 4,
  "nbformat_minor": 5
}